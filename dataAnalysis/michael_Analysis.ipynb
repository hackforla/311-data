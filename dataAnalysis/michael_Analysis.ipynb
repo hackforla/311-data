{
 "cells": [
  {
   "cell_type": "markdown",
   "metadata": {},
   "source": [
    "# Inital Analysis of My LA 311 Data"
   ]
  },
  {
   "cell_type": "markdown",
   "metadata": {},
   "source": [
    "                                                    Michael Gonzalez\n",
    "\n",
    "In this notebook, I'm planning to look at the 2020 data of my LA 311 service requests. I want to look at the data and make plots of the different services used. I understand that others have done something similar in the past years. This could lead other projects that compares the year over year usage. "
   ]
  },
  {
   "cell_type": "code",
   "execution_count": 20,
   "metadata": {},
   "outputs": [
    {
     "data": {
      "text/html": [
       "<div>\n",
       "<style scoped>\n",
       "    .dataframe tbody tr th:only-of-type {\n",
       "        vertical-align: middle;\n",
       "    }\n",
       "\n",
       "    .dataframe tbody tr th {\n",
       "        vertical-align: top;\n",
       "    }\n",
       "\n",
       "    .dataframe thead th {\n",
       "        text-align: right;\n",
       "    }\n",
       "</style>\n",
       "<table border=\"1\" class=\"dataframe\">\n",
       "  <thead>\n",
       "    <tr style=\"text-align: right;\">\n",
       "      <th></th>\n",
       "      <th>SRNumber</th>\n",
       "      <th>CreatedDate</th>\n",
       "      <th>UpdatedDate</th>\n",
       "      <th>ActionTaken</th>\n",
       "      <th>Owner</th>\n",
       "      <th>RequestType</th>\n",
       "      <th>Status</th>\n",
       "      <th>RequestSource</th>\n",
       "      <th>CreatedByUserOrganization</th>\n",
       "      <th>MobileOS</th>\n",
       "      <th>...</th>\n",
       "      <th>Location</th>\n",
       "      <th>TBMPage</th>\n",
       "      <th>TBMColumn</th>\n",
       "      <th>TBMRow</th>\n",
       "      <th>APC</th>\n",
       "      <th>CD</th>\n",
       "      <th>CDMember</th>\n",
       "      <th>NC</th>\n",
       "      <th>NCName</th>\n",
       "      <th>PolicePrecinct</th>\n",
       "    </tr>\n",
       "  </thead>\n",
       "  <tbody>\n",
       "    <tr>\n",
       "      <th>0</th>\n",
       "      <td>1-1523593381</td>\n",
       "      <td>01/01/2020 12:02:00 AM</td>\n",
       "      <td>01/07/2020 12:19:00 PM</td>\n",
       "      <td>SR Created</td>\n",
       "      <td>BOS</td>\n",
       "      <td>Illegal Dumping Pickup</td>\n",
       "      <td>Closed</td>\n",
       "      <td>Call</td>\n",
       "      <td>BOS</td>\n",
       "      <td>NaN</td>\n",
       "      <td>...</td>\n",
       "      <td>(33.988984265, -118.302681205)</td>\n",
       "      <td>673</td>\n",
       "      <td>J</td>\n",
       "      <td>5.0</td>\n",
       "      <td>South Los Angeles APC</td>\n",
       "      <td>8.0</td>\n",
       "      <td>Marqueece Harris-Dawson</td>\n",
       "      <td>81.0</td>\n",
       "      <td>EMPOWERMENT CONGRESS CENTRAL AREA NDC</td>\n",
       "      <td>77TH STREET</td>\n",
       "    </tr>\n",
       "    <tr>\n",
       "      <th>1</th>\n",
       "      <td>1-1523590121</td>\n",
       "      <td>01/01/2020 12:05:00 AM</td>\n",
       "      <td>01/02/2020 08:43:00 AM</td>\n",
       "      <td>SR Created</td>\n",
       "      <td>BOS</td>\n",
       "      <td>Illegal Dumping Pickup</td>\n",
       "      <td>Closed</td>\n",
       "      <td>Call</td>\n",
       "      <td>BOS</td>\n",
       "      <td>NaN</td>\n",
       "      <td>...</td>\n",
       "      <td>(34.1940284578, -118.499471638)</td>\n",
       "      <td>531</td>\n",
       "      <td>D</td>\n",
       "      <td>6.0</td>\n",
       "      <td>South Valley APC</td>\n",
       "      <td>6.0</td>\n",
       "      <td>Nury Martinez</td>\n",
       "      <td>19.0</td>\n",
       "      <td>LAKE BALBOA NC</td>\n",
       "      <td>WEST VALLEY</td>\n",
       "    </tr>\n",
       "    <tr>\n",
       "      <th>2</th>\n",
       "      <td>1-1523596201</td>\n",
       "      <td>01/01/2020 12:16:00 AM</td>\n",
       "      <td>01/02/2020 03:13:00 PM</td>\n",
       "      <td>SR Created</td>\n",
       "      <td>OCB</td>\n",
       "      <td>Graffiti Removal</td>\n",
       "      <td>Closed</td>\n",
       "      <td>Mobile App</td>\n",
       "      <td>Self Service</td>\n",
       "      <td>Android</td>\n",
       "      <td>...</td>\n",
       "      <td>(34.0117235893, -118.312764174)</td>\n",
       "      <td>673</td>\n",
       "      <td>H</td>\n",
       "      <td>2.0</td>\n",
       "      <td>South Los Angeles APC</td>\n",
       "      <td>8.0</td>\n",
       "      <td>Marqueece Harris-Dawson</td>\n",
       "      <td>77.0</td>\n",
       "      <td>EMPOWERMENT CONGRESS NORTH AREA NDC</td>\n",
       "      <td>SOUTHWEST</td>\n",
       "    </tr>\n",
       "    <tr>\n",
       "      <th>3</th>\n",
       "      <td>1-1523596222</td>\n",
       "      <td>01/01/2020 12:19:00 AM</td>\n",
       "      <td>01/03/2020 07:02:00 AM</td>\n",
       "      <td>SR Created</td>\n",
       "      <td>BOS</td>\n",
       "      <td>Bulky Items</td>\n",
       "      <td>Closed</td>\n",
       "      <td>Mobile App</td>\n",
       "      <td>Self Service</td>\n",
       "      <td>Android</td>\n",
       "      <td>...</td>\n",
       "      <td>(34.0724397675, -118.287797874)</td>\n",
       "      <td>634</td>\n",
       "      <td>A</td>\n",
       "      <td>1.0</td>\n",
       "      <td>Central APC</td>\n",
       "      <td>13.0</td>\n",
       "      <td>Mitch O'Farrell</td>\n",
       "      <td>53.0</td>\n",
       "      <td>RAMPART VILLAGE NC</td>\n",
       "      <td>OLYMPIC</td>\n",
       "    </tr>\n",
       "    <tr>\n",
       "      <th>4</th>\n",
       "      <td>1-1523591123</td>\n",
       "      <td>01/01/2020 12:21:00 AM</td>\n",
       "      <td>01/03/2020 03:54:00 PM</td>\n",
       "      <td>SR Created</td>\n",
       "      <td>BOS</td>\n",
       "      <td>Metal/Household Appliances</td>\n",
       "      <td>Closed</td>\n",
       "      <td>Mobile App</td>\n",
       "      <td>Self Service</td>\n",
       "      <td>Android</td>\n",
       "      <td>...</td>\n",
       "      <td>(34.0724397675, -118.287797874)</td>\n",
       "      <td>634</td>\n",
       "      <td>A</td>\n",
       "      <td>1.0</td>\n",
       "      <td>Central APC</td>\n",
       "      <td>13.0</td>\n",
       "      <td>Mitch O'Farrell</td>\n",
       "      <td>53.0</td>\n",
       "      <td>RAMPART VILLAGE NC</td>\n",
       "      <td>OLYMPIC</td>\n",
       "    </tr>\n",
       "  </tbody>\n",
       "</table>\n",
       "<p>5 rows × 34 columns</p>\n",
       "</div>"
      ],
      "text/plain": [
       "       SRNumber             CreatedDate             UpdatedDate ActionTaken  \\\n",
       "0  1-1523593381  01/01/2020 12:02:00 AM  01/07/2020 12:19:00 PM  SR Created   \n",
       "1  1-1523590121  01/01/2020 12:05:00 AM  01/02/2020 08:43:00 AM  SR Created   \n",
       "2  1-1523596201  01/01/2020 12:16:00 AM  01/02/2020 03:13:00 PM  SR Created   \n",
       "3  1-1523596222  01/01/2020 12:19:00 AM  01/03/2020 07:02:00 AM  SR Created   \n",
       "4  1-1523591123  01/01/2020 12:21:00 AM  01/03/2020 03:54:00 PM  SR Created   \n",
       "\n",
       "  Owner                 RequestType  Status RequestSource  \\\n",
       "0   BOS      Illegal Dumping Pickup  Closed          Call   \n",
       "1   BOS      Illegal Dumping Pickup  Closed          Call   \n",
       "2   OCB            Graffiti Removal  Closed    Mobile App   \n",
       "3   BOS                 Bulky Items  Closed    Mobile App   \n",
       "4   BOS  Metal/Household Appliances  Closed    Mobile App   \n",
       "\n",
       "  CreatedByUserOrganization MobileOS  ...                         Location  \\\n",
       "0                       BOS      NaN  ...   (33.988984265, -118.302681205)   \n",
       "1                       BOS      NaN  ...  (34.1940284578, -118.499471638)   \n",
       "2              Self Service  Android  ...  (34.0117235893, -118.312764174)   \n",
       "3              Self Service  Android  ...  (34.0724397675, -118.287797874)   \n",
       "4              Self Service  Android  ...  (34.0724397675, -118.287797874)   \n",
       "\n",
       "  TBMPage TBMColumn TBMRow                    APC    CD  \\\n",
       "0     673         J    5.0  South Los Angeles APC   8.0   \n",
       "1     531         D    6.0       South Valley APC   6.0   \n",
       "2     673         H    2.0  South Los Angeles APC   8.0   \n",
       "3     634         A    1.0            Central APC  13.0   \n",
       "4     634         A    1.0            Central APC  13.0   \n",
       "\n",
       "                  CDMember    NC                                 NCName  \\\n",
       "0  Marqueece Harris-Dawson  81.0  EMPOWERMENT CONGRESS CENTRAL AREA NDC   \n",
       "1            Nury Martinez  19.0                         LAKE BALBOA NC   \n",
       "2  Marqueece Harris-Dawson  77.0    EMPOWERMENT CONGRESS NORTH AREA NDC   \n",
       "3          Mitch O'Farrell  53.0                     RAMPART VILLAGE NC   \n",
       "4          Mitch O'Farrell  53.0                     RAMPART VILLAGE NC   \n",
       "\n",
       "  PolicePrecinct  \n",
       "0    77TH STREET  \n",
       "1    WEST VALLEY  \n",
       "2      SOUTHWEST  \n",
       "3        OLYMPIC  \n",
       "4        OLYMPIC  \n",
       "\n",
       "[5 rows x 34 columns]"
      ]
     },
     "execution_count": 20,
     "metadata": {},
     "output_type": "execute_result"
    }
   ],
   "source": [
    "# Importing the needed libraries.\n",
    "import pandas as pd\n",
    "import numpy as np\n",
    "import pandas_profiling\n",
    "from datetime import datetime\n",
    "import matplotlib.pyplot as plt\n",
    "import seaborn as sns\n",
    "%matplotlib inline\n",
    "\n",
    "# Loading the data frame.\n",
    "m311 = pd.read_csv('...\\MyLA311_Service_Request_Data_2020.csv')\n",
    "\n",
    "# Displaying the first five rows of the data frame.\n",
    "m311.head()"
   ]
  },
  {
   "cell_type": "markdown",
   "metadata": {},
   "source": [
    "## Closer Look at the Data"
   ]
  },
  {
   "cell_type": "code",
   "execution_count": 21,
   "metadata": {},
   "outputs": [
    {
     "data": {
      "text/plain": [
       "(1491773, 34)"
      ]
     },
     "execution_count": 21,
     "metadata": {},
     "output_type": "execute_result"
    }
   ],
   "source": [
    "# Looking at the data frame's shape.\n",
    "m311.shape"
   ]
  },
  {
   "cell_type": "code",
   "execution_count": 22,
   "metadata": {},
   "outputs": [
    {
     "data": {
      "text/plain": [
       "0"
      ]
     },
     "execution_count": 22,
     "metadata": {},
     "output_type": "execute_result"
    }
   ],
   "source": [
    "# Looking at the created date's na.\n",
    "m311.CreatedDate.isna().sum()"
   ]
  },
  {
   "cell_type": "code",
   "execution_count": 23,
   "metadata": {},
   "outputs": [
    {
     "data": {
      "text/plain": [
       "7246"
      ]
     },
     "execution_count": 23,
     "metadata": {},
     "output_type": "execute_result"
    }
   ],
   "source": [
    "# Looking at the closed date's na.\n",
    "m311.ClosedDate.isna().sum()"
   ]
  },
  {
   "cell_type": "code",
   "execution_count": 24,
   "metadata": {},
   "outputs": [
    {
     "data": {
      "text/plain": [
       "73623"
      ]
     },
     "execution_count": 24,
     "metadata": {},
     "output_type": "execute_result"
    }
   ],
   "source": [
    "# Looking at the service date's na.\n",
    "m311.ServiceDate.isna().sum()"
   ]
  },
  {
   "cell_type": "code",
   "execution_count": 6,
   "metadata": {},
   "outputs": [
    {
     "data": {
      "text/plain": [
       "(1749, 34)"
      ]
     },
     "execution_count": 6,
     "metadata": {},
     "output_type": "execute_result"
    }
   ],
   "source": [
    "# Looking at the status column for open requests. \n",
    "m311_open = m311[m311.Status == 'Open']\n",
    "m311_open.shape"
   ]
  },
  {
   "cell_type": "code",
   "execution_count": 25,
   "metadata": {},
   "outputs": [
    {
     "data": {
      "text/plain": [
       "(1443, 36)"
      ]
     },
     "execution_count": 25,
     "metadata": {},
     "output_type": "execute_result"
    }
   ],
   "source": [
    "# Displaying all open-status request that are based on service and created dates.\n",
    "m311_notServiced = m311_open[m311_open.ServiceDate.isna() & m311_open.CreatedDate.notna()]\n",
    "m311_notServiced.shape"
   ]
  },
  {
   "cell_type": "code",
   "execution_count": 26,
   "metadata": {},
   "outputs": [
    {
     "data": {
      "text/plain": [
       "(1491773, 34)"
      ]
     },
     "execution_count": 26,
     "metadata": {},
     "output_type": "execute_result"
    }
   ],
   "source": [
    "# Displaying all open-status rrequest that based on closed dates and created dates.\n",
    "m311_notClosed = m311_open[m311_open.ClosedDate.isna() & m311_open.CreatedDate.notna()]\n",
    "m311.shape"
   ]
  },
  {
   "cell_type": "markdown",
   "metadata": {},
   "source": [
    "## Data Transformation "
   ]
  },
  {
   "cell_type": "code",
   "execution_count": 27,
   "metadata": {},
   "outputs": [],
   "source": [
    "# Adding new columns with removed na from the listed columns. \n",
    "dt_cols = ['CreatedDate','UpdatedDate','ServiceDate','ClosedDate']\n",
    "\n",
    "for col in dt_cols:\n",
    "    m311[col] = pd.to_datetime(m311_open[col])\n",
    "    \n",
    "m311_open['ClosedDate_open'] = m311_open['ClosedDate'].replace(to_replace = pd.NaT, value = datetime.now())\n",
    "m311_open['ServiceDate_open'] = m311_open['ServiceDate'].replace(to_replace = pd.NaT, value = datetime.now())"
   ]
  },
  {
   "cell_type": "code",
   "execution_count": 30,
   "metadata": {},
   "outputs": [],
   "source": [
    "def dt_to_days(dt):\n",
    "    if not pd.isnull(dt):\n",
    "        num_days = pd.Timedelta.total_seconds(dt)/(24.*3600)\n",
    "        if num_days <= .000001:\n",
    "            return 0\n",
    "        return pd.Timedelta.total_seconds(dt)/(24.*3600)\n",
    "    else:\n",
    "        return np.NaN\n",
    "\n",
    "m311_open['ClosedDiff'] = m311_open.ClosedDate_open - m311.CreatedDate\n",
    "m311_open['ServiceDiff'] = m311_open.ClosedDate_open - m311.CreatedDate\n",
    "m311_open['ClosedServiceDiff'] = m311_open.ClosedDate_open - m311.CreatedDate\n",
    "m311_open['ClosedDiff_Days'] = m311_open.ClosedDiff.apply(dt_to_days)\n",
    "m311_open['ServiceDiff_Days'] = m311_open.ServiceDiff.apply(dt_to_days)\n",
    "m311_open['ClosedServiceDiff_Days'] = m311_open.ClosedServiceDiff.apply(dt_to_days)\n"
   ]
  },
  {
   "cell_type": "code",
   "execution_count": 31,
   "metadata": {},
   "outputs": [
    {
     "data": {
      "text/html": [
       "<div>\n",
       "<style scoped>\n",
       "    .dataframe tbody tr th:only-of-type {\n",
       "        vertical-align: middle;\n",
       "    }\n",
       "\n",
       "    .dataframe tbody tr th {\n",
       "        vertical-align: top;\n",
       "    }\n",
       "\n",
       "    .dataframe thead th {\n",
       "        text-align: right;\n",
       "    }\n",
       "</style>\n",
       "<table border=\"1\" class=\"dataframe\">\n",
       "  <thead>\n",
       "    <tr style=\"text-align: right;\">\n",
       "      <th></th>\n",
       "      <th>SRNumber</th>\n",
       "      <th>CreatedDate</th>\n",
       "      <th>UpdatedDate</th>\n",
       "      <th>ActionTaken</th>\n",
       "      <th>Owner</th>\n",
       "      <th>RequestType</th>\n",
       "      <th>Status</th>\n",
       "      <th>RequestSource</th>\n",
       "      <th>CreatedByUserOrganization</th>\n",
       "      <th>MobileOS</th>\n",
       "      <th>...</th>\n",
       "      <th>NCName</th>\n",
       "      <th>PolicePrecinct</th>\n",
       "      <th>ClosedDate_open</th>\n",
       "      <th>ServiceDate_open</th>\n",
       "      <th>ClosedDiff</th>\n",
       "      <th>ServiceDiff</th>\n",
       "      <th>ClosedServiceDiff</th>\n",
       "      <th>ClosedDiff_Days</th>\n",
       "      <th>ServiceDiff_Days</th>\n",
       "      <th>ClosedServiceDiff_Days</th>\n",
       "    </tr>\n",
       "  </thead>\n",
       "  <tbody>\n",
       "    <tr>\n",
       "      <th>1724</th>\n",
       "      <td>1-1523805332</td>\n",
       "      <td>01/02/2020 02:37:00 AM</td>\n",
       "      <td>02/06/2020 04:31:00 PM</td>\n",
       "      <td>SR Created</td>\n",
       "      <td>BSL</td>\n",
       "      <td>Multiple Streetlight Issue</td>\n",
       "      <td>Open</td>\n",
       "      <td>Mobile App</td>\n",
       "      <td>Self Service</td>\n",
       "      <td>Android</td>\n",
       "      <td>...</td>\n",
       "      <td>PACOIMA NC</td>\n",
       "      <td>FOOTHILL</td>\n",
       "      <td>2021-06-29 11:48:37.479531</td>\n",
       "      <td>2021-06-29 11:48:37.480529</td>\n",
       "      <td>544 days 09:11:37.479531</td>\n",
       "      <td>544 days 09:11:37.479531</td>\n",
       "      <td>544 days 09:11:37.479531</td>\n",
       "      <td>544.383073</td>\n",
       "      <td>544.383073</td>\n",
       "      <td>544.383073</td>\n",
       "    </tr>\n",
       "    <tr>\n",
       "      <th>4511</th>\n",
       "      <td>1-1524259631</td>\n",
       "      <td>01/02/2020 12:43:00 PM</td>\n",
       "      <td>02/11/2020 03:45:00 AM</td>\n",
       "      <td>SR Created</td>\n",
       "      <td>BOS</td>\n",
       "      <td>Illegal Dumping Pickup</td>\n",
       "      <td>Open</td>\n",
       "      <td>Driver Self Report</td>\n",
       "      <td>Proactive Insert</td>\n",
       "      <td>NaN</td>\n",
       "      <td>...</td>\n",
       "      <td>NaN</td>\n",
       "      <td>NaN</td>\n",
       "      <td>2021-06-29 11:48:37.479531</td>\n",
       "      <td>2021-06-29 11:48:37.480529</td>\n",
       "      <td>543 days 23:05:37.479531</td>\n",
       "      <td>543 days 23:05:37.479531</td>\n",
       "      <td>543 days 23:05:37.479531</td>\n",
       "      <td>543.962239</td>\n",
       "      <td>543.962239</td>\n",
       "      <td>543.962239</td>\n",
       "    </tr>\n",
       "    <tr>\n",
       "      <th>8153</th>\n",
       "      <td>1-1524870371</td>\n",
       "      <td>01/03/2020 09:23:00 AM</td>\n",
       "      <td>01/03/2020 09:23:00 AM</td>\n",
       "      <td>SR Created</td>\n",
       "      <td>OCB</td>\n",
       "      <td>Graffiti Removal</td>\n",
       "      <td>Open</td>\n",
       "      <td>Self Service</td>\n",
       "      <td>Self Service</td>\n",
       "      <td>NaN</td>\n",
       "      <td>...</td>\n",
       "      <td>BOYLE HEIGHTS NC</td>\n",
       "      <td>HOLLENBECK</td>\n",
       "      <td>2021-06-29 11:48:37.479531</td>\n",
       "      <td>2021-06-29 11:48:37.480529</td>\n",
       "      <td>543 days 02:25:37.479531</td>\n",
       "      <td>543 days 02:25:37.479531</td>\n",
       "      <td>543 days 02:25:37.479531</td>\n",
       "      <td>543.101128</td>\n",
       "      <td>543.101128</td>\n",
       "      <td>543.101128</td>\n",
       "    </tr>\n",
       "    <tr>\n",
       "      <th>8159</th>\n",
       "      <td>1-1524870561</td>\n",
       "      <td>01/03/2020 09:24:00 AM</td>\n",
       "      <td>01/03/2020 09:24:00 AM</td>\n",
       "      <td>SR Created</td>\n",
       "      <td>OCB</td>\n",
       "      <td>Graffiti Removal</td>\n",
       "      <td>Open</td>\n",
       "      <td>Self Service</td>\n",
       "      <td>Self Service</td>\n",
       "      <td>NaN</td>\n",
       "      <td>...</td>\n",
       "      <td>BOYLE HEIGHTS NC</td>\n",
       "      <td>HOLLENBECK</td>\n",
       "      <td>2021-06-29 11:48:37.479531</td>\n",
       "      <td>2021-06-29 11:48:37.480529</td>\n",
       "      <td>543 days 02:24:37.479531</td>\n",
       "      <td>543 days 02:24:37.479531</td>\n",
       "      <td>543 days 02:24:37.479531</td>\n",
       "      <td>543.100434</td>\n",
       "      <td>543.100434</td>\n",
       "      <td>543.100434</td>\n",
       "    </tr>\n",
       "    <tr>\n",
       "      <th>8347</th>\n",
       "      <td>1-1524910655</td>\n",
       "      <td>01/03/2020 09:55:00 AM</td>\n",
       "      <td>01/03/2020 09:55:00 AM</td>\n",
       "      <td>SR Created</td>\n",
       "      <td>OCB</td>\n",
       "      <td>Graffiti Removal</td>\n",
       "      <td>Open</td>\n",
       "      <td>Mobile App</td>\n",
       "      <td>Self Service</td>\n",
       "      <td>iOS</td>\n",
       "      <td>...</td>\n",
       "      <td>MACARTHUR PARK NC</td>\n",
       "      <td>RAMPART</td>\n",
       "      <td>2021-06-29 11:48:37.479531</td>\n",
       "      <td>2021-06-29 11:48:37.480529</td>\n",
       "      <td>543 days 01:53:37.479531</td>\n",
       "      <td>543 days 01:53:37.479531</td>\n",
       "      <td>543 days 01:53:37.479531</td>\n",
       "      <td>543.078906</td>\n",
       "      <td>543.078906</td>\n",
       "      <td>543.078906</td>\n",
       "    </tr>\n",
       "  </tbody>\n",
       "</table>\n",
       "<p>5 rows × 42 columns</p>\n",
       "</div>"
      ],
      "text/plain": [
       "          SRNumber             CreatedDate             UpdatedDate  \\\n",
       "1724  1-1523805332  01/02/2020 02:37:00 AM  02/06/2020 04:31:00 PM   \n",
       "4511  1-1524259631  01/02/2020 12:43:00 PM  02/11/2020 03:45:00 AM   \n",
       "8153  1-1524870371  01/03/2020 09:23:00 AM  01/03/2020 09:23:00 AM   \n",
       "8159  1-1524870561  01/03/2020 09:24:00 AM  01/03/2020 09:24:00 AM   \n",
       "8347  1-1524910655  01/03/2020 09:55:00 AM  01/03/2020 09:55:00 AM   \n",
       "\n",
       "     ActionTaken Owner                 RequestType Status       RequestSource  \\\n",
       "1724  SR Created   BSL  Multiple Streetlight Issue   Open          Mobile App   \n",
       "4511  SR Created   BOS      Illegal Dumping Pickup   Open  Driver Self Report   \n",
       "8153  SR Created   OCB            Graffiti Removal   Open        Self Service   \n",
       "8159  SR Created   OCB            Graffiti Removal   Open        Self Service   \n",
       "8347  SR Created   OCB            Graffiti Removal   Open          Mobile App   \n",
       "\n",
       "     CreatedByUserOrganization MobileOS  ...             NCName  \\\n",
       "1724              Self Service  Android  ...         PACOIMA NC   \n",
       "4511          Proactive Insert      NaN  ...                NaN   \n",
       "8153              Self Service      NaN  ...   BOYLE HEIGHTS NC   \n",
       "8159              Self Service      NaN  ...   BOYLE HEIGHTS NC   \n",
       "8347              Self Service      iOS  ...  MACARTHUR PARK NC   \n",
       "\n",
       "     PolicePrecinct            ClosedDate_open            ServiceDate_open  \\\n",
       "1724       FOOTHILL 2021-06-29 11:48:37.479531  2021-06-29 11:48:37.480529   \n",
       "4511            NaN 2021-06-29 11:48:37.479531  2021-06-29 11:48:37.480529   \n",
       "8153     HOLLENBECK 2021-06-29 11:48:37.479531  2021-06-29 11:48:37.480529   \n",
       "8159     HOLLENBECK 2021-06-29 11:48:37.479531  2021-06-29 11:48:37.480529   \n",
       "8347        RAMPART 2021-06-29 11:48:37.479531  2021-06-29 11:48:37.480529   \n",
       "\n",
       "                   ClosedDiff              ServiceDiff  \\\n",
       "1724 544 days 09:11:37.479531 544 days 09:11:37.479531   \n",
       "4511 543 days 23:05:37.479531 543 days 23:05:37.479531   \n",
       "8153 543 days 02:25:37.479531 543 days 02:25:37.479531   \n",
       "8159 543 days 02:24:37.479531 543 days 02:24:37.479531   \n",
       "8347 543 days 01:53:37.479531 543 days 01:53:37.479531   \n",
       "\n",
       "            ClosedServiceDiff ClosedDiff_Days ServiceDiff_Days  \\\n",
       "1724 544 days 09:11:37.479531      544.383073       544.383073   \n",
       "4511 543 days 23:05:37.479531      543.962239       543.962239   \n",
       "8153 543 days 02:25:37.479531      543.101128       543.101128   \n",
       "8159 543 days 02:24:37.479531      543.100434       543.100434   \n",
       "8347 543 days 01:53:37.479531      543.078906       543.078906   \n",
       "\n",
       "     ClosedServiceDiff_Days  \n",
       "1724             544.383073  \n",
       "4511             543.962239  \n",
       "8153             543.101128  \n",
       "8159             543.100434  \n",
       "8347             543.078906  \n",
       "\n",
       "[5 rows x 42 columns]"
      ]
     },
     "execution_count": 31,
     "metadata": {},
     "output_type": "execute_result"
    }
   ],
   "source": [
    "# Displaying the new columns in the data frame.\n",
    "m311_open.head()"
   ]
  },
  {
   "cell_type": "markdown",
   "metadata": {},
   "source": [
    "## Data Visualizations "
   ]
  },
  {
   "cell_type": "code",
   "execution_count": 32,
   "metadata": {},
   "outputs": [
    {
     "data": {
      "text/plain": [
       "Text(0, 0.5, 'Count of Calls')"
      ]
     },
     "execution_count": 32,
     "metadata": {},
     "output_type": "execute_result"
    },
    {
     "data": {
      "image/png": "[encoded data removed]",
      "text/plain": [
       "<Figure size 1008x720 with 1 Axes>"
      ]
     },
     "metadata": {
      "needs_background": "light"
     },
     "output_type": "display_data"
    }
   ],
   "source": [
    "# Displaying ongoing service requests from the closed diff column.\n",
    "m311_open.hist(column = 'ClosedDiff_Days', bins = 35, figsize = (14, 10))\n",
    "plt.grid(False)\n",
    "plt.xlabel('Days')\n",
    "plt.ylabel('Count of Calls')"
   ]
  },
  {
   "cell_type": "code",
   "execution_count": 33,
   "metadata": {},
   "outputs": [
    {
     "data": {
      "text/plain": [
       "Text(0, 0.5, 'Count of Calls')"
      ]
     },
     "execution_count": 33,
     "metadata": {},
     "output_type": "execute_result"
    },
    {
     "data": {
      "image/png": "[encoded data removed]",
      "text/plain": [
       "<Figure size 1008x720 with 1 Axes>"
      ]
     },
     "metadata": {
      "needs_background": "light"
     },
     "output_type": "display_data"
    }
   ],
   "source": [
    "# Comparing the open service date column with the closed diff column. \n",
    "m311_open.loc[m311_open.ServiceDate.notna(), 'ClosedDiff_Days'].plot.hist(bins = 35, figsize = (14,10))\n",
    "plt.title('Comparing Service Dates with Closed Diff Days')\n",
    "plt.xlabel('Days')\n",
    "plt.ylabel('Count of Calls')"
   ]
  },
  {
   "cell_type": "code",
   "execution_count": 34,
   "metadata": {},
   "outputs": [
    {
     "data": {
      "text/plain": [
       "Text(0, 0.5, 'Count of Calls')"
      ]
     },
     "execution_count": 34,
     "metadata": {},
     "output_type": "execute_result"
    },
    {
     "data": {
      "image/png": "[encoded data removed]",
      "text/plain": [
       "<Figure size 1008x720 with 1 Axes>"
      ]
     },
     "metadata": {
      "needs_background": "light"
     },
     "output_type": "display_data"
    }
   ],
   "source": [
    "# Displaying the remaining open requests by the type of service.\n",
    "m311_open['RequestType'].value_counts().plot(kind = 'bar', figsize = (14, 10))\n",
    "plt.title('Remaining Request based on the Service Call')\n",
    "plt.ylabel('Count of Calls')"
   ]
  },
  {
   "cell_type": "code",
   "execution_count": null,
   "metadata": {},
   "outputs": [],
   "source": []
  }
 ],
 "metadata": {
  "kernelspec": {
   "display_name": "Python 3",
   "language": "python",
   "name": "python3"
  },
  "language_info": {
   "codemirror_mode": {
    "name": "ipython",
    "version": 3
   },
   "file_extension": ".py",
   "mimetype": "text/x-python",
   "name": "python",
   "nbconvert_exporter": "python",
   "pygments_lexer": "ipython3",
   "version": "3.6.10"
  }
 },
 "nbformat": 4,
 "nbformat_minor": 4
}
