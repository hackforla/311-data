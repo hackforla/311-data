{
 "cells": [
  {
   "cell_type": "markdown",
   "metadata": {},
   "source": [
    "# Insights on Los Angeles' 311 data for 2020 service requests"
   ]
  },
  {
   "cell_type": "markdown",
   "metadata": {},
   "source": [
    "Michael Gonzalez\n",
    "\n",
    "This notebook will outline the exploration of Los Angeles' 311 data. By looking at the closed status of each requests with the created and serviced dates. The data will be loaded into dataframes and pandas with the datetime libraries. The plots will be created from the seaborn and matplotlib libraries. I will be using the numpy library for additonal parts of this project. "
   ]
  },
  {
   "cell_type": "markdown",
   "metadata": {},
   "source": [
    "## Brief Overview "
   ]
  },
  {
   "cell_type": "markdown",
   "metadata": {},
   "source": [
    "I will need to import useful libraries to timestamp and profile data to discover insights. This project benefited from looking for insights in the closing rate of the open requests. The data is orgainzed and has many useful columns to experiment with new ideas. The focus of this project is on NC 52, which is listed as Downtown Los Angeles. This area is the center of the city."
   ]
  },
  {
   "cell_type": "code",
   "execution_count": 1,
   "metadata": {},
   "outputs": [
    {
     "data": {
      "text/html": [
       "<div>\n",
       "<style scoped>\n",
       "    .dataframe tbody tr th:only-of-type {\n",
       "        vertical-align: middle;\n",
       "    }\n",
       "\n",
       "    .dataframe tbody tr th {\n",
       "        vertical-align: top;\n",
       "    }\n",
       "\n",
       "    .dataframe thead th {\n",
       "        text-align: right;\n",
       "    }\n",
       "</style>\n",
       "<table border=\"1\" class=\"dataframe\">\n",
       "  <thead>\n",
       "    <tr style=\"text-align: right;\">\n",
       "      <th></th>\n",
       "      <th>SRNumber</th>\n",
       "      <th>CreatedDate</th>\n",
       "      <th>UpdatedDate</th>\n",
       "      <th>ActionTaken</th>\n",
       "      <th>Owner</th>\n",
       "      <th>RequestType</th>\n",
       "      <th>Status</th>\n",
       "      <th>RequestSource</th>\n",
       "      <th>CreatedByUserOrganization</th>\n",
       "      <th>MobileOS</th>\n",
       "      <th>...</th>\n",
       "      <th>Location</th>\n",
       "      <th>TBMPage</th>\n",
       "      <th>TBMColumn</th>\n",
       "      <th>TBMRow</th>\n",
       "      <th>APC</th>\n",
       "      <th>CD</th>\n",
       "      <th>CDMember</th>\n",
       "      <th>NC</th>\n",
       "      <th>NCName</th>\n",
       "      <th>PolicePrecinct</th>\n",
       "    </tr>\n",
       "  </thead>\n",
       "  <tbody>\n",
       "    <tr>\n",
       "      <th>0</th>\n",
       "      <td>1-1523593381</td>\n",
       "      <td>01/01/2020 12:02:00 AM</td>\n",
       "      <td>01/07/2020 12:19:00 PM</td>\n",
       "      <td>SR Created</td>\n",
       "      <td>BOS</td>\n",
       "      <td>Illegal Dumping Pickup</td>\n",
       "      <td>Closed</td>\n",
       "      <td>Call</td>\n",
       "      <td>BOS</td>\n",
       "      <td>NaN</td>\n",
       "      <td>...</td>\n",
       "      <td>(33.988984265, -118.302681205)</td>\n",
       "      <td>673</td>\n",
       "      <td>J</td>\n",
       "      <td>5.0</td>\n",
       "      <td>South Los Angeles APC</td>\n",
       "      <td>8.0</td>\n",
       "      <td>Marqueece Harris-Dawson</td>\n",
       "      <td>81.0</td>\n",
       "      <td>EMPOWERMENT CONGRESS CENTRAL AREA NDC</td>\n",
       "      <td>77TH STREET</td>\n",
       "    </tr>\n",
       "    <tr>\n",
       "      <th>1</th>\n",
       "      <td>1-1523590121</td>\n",
       "      <td>01/01/2020 12:05:00 AM</td>\n",
       "      <td>01/02/2020 08:43:00 AM</td>\n",
       "      <td>SR Created</td>\n",
       "      <td>BOS</td>\n",
       "      <td>Illegal Dumping Pickup</td>\n",
       "      <td>Closed</td>\n",
       "      <td>Call</td>\n",
       "      <td>BOS</td>\n",
       "      <td>NaN</td>\n",
       "      <td>...</td>\n",
       "      <td>(34.1940284578, -118.499471638)</td>\n",
       "      <td>531</td>\n",
       "      <td>D</td>\n",
       "      <td>6.0</td>\n",
       "      <td>South Valley APC</td>\n",
       "      <td>6.0</td>\n",
       "      <td>Nury Martinez</td>\n",
       "      <td>19.0</td>\n",
       "      <td>LAKE BALBOA NC</td>\n",
       "      <td>WEST VALLEY</td>\n",
       "    </tr>\n",
       "    <tr>\n",
       "      <th>2</th>\n",
       "      <td>1-1523596201</td>\n",
       "      <td>01/01/2020 12:16:00 AM</td>\n",
       "      <td>01/02/2020 03:13:00 PM</td>\n",
       "      <td>SR Created</td>\n",
       "      <td>OCB</td>\n",
       "      <td>Graffiti Removal</td>\n",
       "      <td>Closed</td>\n",
       "      <td>Mobile App</td>\n",
       "      <td>Self Service</td>\n",
       "      <td>Android</td>\n",
       "      <td>...</td>\n",
       "      <td>(34.0117235893, -118.312764174)</td>\n",
       "      <td>673</td>\n",
       "      <td>H</td>\n",
       "      <td>2.0</td>\n",
       "      <td>South Los Angeles APC</td>\n",
       "      <td>8.0</td>\n",
       "      <td>Marqueece Harris-Dawson</td>\n",
       "      <td>77.0</td>\n",
       "      <td>EMPOWERMENT CONGRESS NORTH AREA NDC</td>\n",
       "      <td>SOUTHWEST</td>\n",
       "    </tr>\n",
       "    <tr>\n",
       "      <th>3</th>\n",
       "      <td>1-1523596222</td>\n",
       "      <td>01/01/2020 12:19:00 AM</td>\n",
       "      <td>01/03/2020 07:02:00 AM</td>\n",
       "      <td>SR Created</td>\n",
       "      <td>BOS</td>\n",
       "      <td>Bulky Items</td>\n",
       "      <td>Closed</td>\n",
       "      <td>Mobile App</td>\n",
       "      <td>Self Service</td>\n",
       "      <td>Android</td>\n",
       "      <td>...</td>\n",
       "      <td>(34.0724397675, -118.287797874)</td>\n",
       "      <td>634</td>\n",
       "      <td>A</td>\n",
       "      <td>1.0</td>\n",
       "      <td>Central APC</td>\n",
       "      <td>13.0</td>\n",
       "      <td>Mitch O'Farrell</td>\n",
       "      <td>53.0</td>\n",
       "      <td>RAMPART VILLAGE NC</td>\n",
       "      <td>OLYMPIC</td>\n",
       "    </tr>\n",
       "    <tr>\n",
       "      <th>4</th>\n",
       "      <td>1-1523591123</td>\n",
       "      <td>01/01/2020 12:21:00 AM</td>\n",
       "      <td>01/03/2020 03:54:00 PM</td>\n",
       "      <td>SR Created</td>\n",
       "      <td>BOS</td>\n",
       "      <td>Metal/Household Appliances</td>\n",
       "      <td>Closed</td>\n",
       "      <td>Mobile App</td>\n",
       "      <td>Self Service</td>\n",
       "      <td>Android</td>\n",
       "      <td>...</td>\n",
       "      <td>(34.0724397675, -118.287797874)</td>\n",
       "      <td>634</td>\n",
       "      <td>A</td>\n",
       "      <td>1.0</td>\n",
       "      <td>Central APC</td>\n",
       "      <td>13.0</td>\n",
       "      <td>Mitch O'Farrell</td>\n",
       "      <td>53.0</td>\n",
       "      <td>RAMPART VILLAGE NC</td>\n",
       "      <td>OLYMPIC</td>\n",
       "    </tr>\n",
       "  </tbody>\n",
       "</table>\n",
       "<p>5 rows × 34 columns</p>\n",
       "</div>"
      ],
      "text/plain": [
       "       SRNumber             CreatedDate             UpdatedDate ActionTaken  \\\n",
       "0  1-1523593381  01/01/2020 12:02:00 AM  01/07/2020 12:19:00 PM  SR Created   \n",
       "1  1-1523590121  01/01/2020 12:05:00 AM  01/02/2020 08:43:00 AM  SR Created   \n",
       "2  1-1523596201  01/01/2020 12:16:00 AM  01/02/2020 03:13:00 PM  SR Created   \n",
       "3  1-1523596222  01/01/2020 12:19:00 AM  01/03/2020 07:02:00 AM  SR Created   \n",
       "4  1-1523591123  01/01/2020 12:21:00 AM  01/03/2020 03:54:00 PM  SR Created   \n",
       "\n",
       "  Owner                 RequestType  Status RequestSource  \\\n",
       "0   BOS      Illegal Dumping Pickup  Closed          Call   \n",
       "1   BOS      Illegal Dumping Pickup  Closed          Call   \n",
       "2   OCB            Graffiti Removal  Closed    Mobile App   \n",
       "3   BOS                 Bulky Items  Closed    Mobile App   \n",
       "4   BOS  Metal/Household Appliances  Closed    Mobile App   \n",
       "\n",
       "  CreatedByUserOrganization MobileOS  ...                         Location  \\\n",
       "0                       BOS      NaN  ...   (33.988984265, -118.302681205)   \n",
       "1                       BOS      NaN  ...  (34.1940284578, -118.499471638)   \n",
       "2              Self Service  Android  ...  (34.0117235893, -118.312764174)   \n",
       "3              Self Service  Android  ...  (34.0724397675, -118.287797874)   \n",
       "4              Self Service  Android  ...  (34.0724397675, -118.287797874)   \n",
       "\n",
       "  TBMPage TBMColumn TBMRow                    APC    CD  \\\n",
       "0     673         J    5.0  South Los Angeles APC   8.0   \n",
       "1     531         D    6.0       South Valley APC   6.0   \n",
       "2     673         H    2.0  South Los Angeles APC   8.0   \n",
       "3     634         A    1.0            Central APC  13.0   \n",
       "4     634         A    1.0            Central APC  13.0   \n",
       "\n",
       "                  CDMember    NC                                 NCName  \\\n",
       "0  Marqueece Harris-Dawson  81.0  EMPOWERMENT CONGRESS CENTRAL AREA NDC   \n",
       "1            Nury Martinez  19.0                         LAKE BALBOA NC   \n",
       "2  Marqueece Harris-Dawson  77.0    EMPOWERMENT CONGRESS NORTH AREA NDC   \n",
       "3          Mitch O'Farrell  53.0                     RAMPART VILLAGE NC   \n",
       "4          Mitch O'Farrell  53.0                     RAMPART VILLAGE NC   \n",
       "\n",
       "  PolicePrecinct  \n",
       "0    77TH STREET  \n",
       "1    WEST VALLEY  \n",
       "2      SOUTHWEST  \n",
       "3        OLYMPIC  \n",
       "4        OLYMPIC  \n",
       "\n",
       "[5 rows x 34 columns]"
      ]
     },
     "execution_count": 1,
     "metadata": {},
     "output_type": "execute_result"
    }
   ],
   "source": [
    "# Importing needed libraries.\n",
    "import pandas as pd\n",
    "import numpy as np\n",
    "import pandas_profiling\n",
    "from datetime import datetime\n",
    "import matplotlib.pyplot as plt\n",
    "import seaborn as sns\n",
    "%matplotlib inline\n",
    "\n",
    "\n",
    "# Loading the data into a Data Frame.\n",
    "dfb = pd.read_csv('..\\Documents\\MyLA311_Service_Request_Data_2020.csv')\n",
    "\n",
    "# Displaying the top five rows of data.\n",
    "dfb.head()"
   ]
  },
  {
   "cell_type": "markdown",
   "metadata": {},
   "source": [
    "## Exploratory Data Analysis"
   ]
  },
  {
   "cell_type": "markdown",
   "metadata": {},
   "source": [
    "In this section, I had seen a project that demonstrated the use of timestamp to measure time. Creating new variables that represents the CreatedDate, ClosedDate, and ServiceDate columns for a description of the data."
   ]
  },
  {
   "cell_type": "code",
   "execution_count": 2,
   "metadata": {},
   "outputs": [],
   "source": [
    "# Creating a new variable that represents the listed columns with timestamp information.\n",
    "dfb['CreatedDate'] = pd.to_datetime(dfb['CreatedDate'], errors = 'coerce')\n",
    "dfb['ClosedDate'] = pd.to_datetime(dfb['ClosedDate'], errors = 'coerce')\n",
    "dfb['ServiceDate'] = pd.to_datetime(dfb['ServiceDate'], errors = 'coerce')"
   ]
  },
  {
   "cell_type": "code",
   "execution_count": 3,
   "metadata": {},
   "outputs": [],
   "source": [
    "# Continuing the previous step.\n",
    "dfb['closed_created'] = dfb.ClosedDate - dfb.CreatedDate\n",
    "dfb['service_created'] = dfb.ServiceDate - dfb.CreatedDate"
   ]
  },
  {
   "cell_type": "code",
   "execution_count": 4,
   "metadata": {},
   "outputs": [
    {
     "data": {
      "text/plain": [
       "count                    1484526\n",
       "mean      4 days 20:28:08.875965\n",
       "std      17 days 07:21:42.497620\n",
       "min         -3653 days +01:33:17\n",
       "25%       0 days 18:55:28.250000\n",
       "50%              1 days 22:18:09\n",
       "75%       4 days 18:16:04.500000\n",
       "max            520 days 15:35:43\n",
       "Name: closed_created, dtype: object"
      ]
     },
     "execution_count": 4,
     "metadata": {},
     "output_type": "execute_result"
    }
   ],
   "source": [
    "dfb.closed_created.describe()"
   ]
  },
  {
   "cell_type": "markdown",
   "metadata": {},
   "source": [
    "As you can see in the min section of the description. There are negative numbers, which means that it has errors in it. Now it is time to check for other types of measures."
   ]
  },
  {
   "cell_type": "code",
   "execution_count": 5,
   "metadata": {},
   "outputs": [
    {
     "data": {
      "text/plain": [
       "7247"
      ]
     },
     "execution_count": 5,
     "metadata": {},
     "output_type": "execute_result"
    }
   ],
   "source": [
    "# Checking the data for the sum of null values.\n",
    "dfb.closed_created.isna().sum()"
   ]
  },
  {
   "cell_type": "code",
   "execution_count": 6,
   "metadata": {},
   "outputs": [
    {
     "data": {
      "text/plain": [
       "(1491773, 36)"
      ]
     },
     "execution_count": 6,
     "metadata": {},
     "output_type": "execute_result"
    }
   ],
   "source": [
    "# Checking the shape of the data.\n",
    "dfb.shape"
   ]
  },
  {
   "cell_type": "code",
   "execution_count": 7,
   "metadata": {},
   "outputs": [
    {
     "data": {
      "text/plain": [
       "0.04170138888888889"
      ]
     },
     "execution_count": 7,
     "metadata": {},
     "output_type": "execute_result"
    }
   ],
   "source": [
    "# Checking the min ratio of a new column that has a closed status.\n",
    "dfb['closed_createdD'] = dfb.closed_created / pd.Timedelta(days = 1)\n",
    "dfbD = dfb[(dfb.closed_createdD > (1.0 / 24.0)) & (dfb.Status == 'Closed') & (dfb.NC == 52)][['closed_createdD', 'RequestType']]\n",
    "dfbD.closed_createdD.min()"
   ]
  },
  {
   "cell_type": "markdown",
   "metadata": {},
   "source": [
    "There is a minimum of 4% of open requests in Downtown Los Angeles that has a closed status. This low completion rate was during a global pandenmic with the city being shutdown."
   ]
  },
  {
   "cell_type": "code",
   "execution_count": 8,
   "metadata": {},
   "outputs": [
    {
     "data": {
      "text/html": [
       "<div>\n",
       "<style scoped>\n",
       "    .dataframe tbody tr th:only-of-type {\n",
       "        vertical-align: middle;\n",
       "    }\n",
       "\n",
       "    .dataframe tbody tr th {\n",
       "        vertical-align: top;\n",
       "    }\n",
       "\n",
       "    .dataframe thead tr th {\n",
       "        text-align: left;\n",
       "    }\n",
       "</style>\n",
       "<table border=\"1\" class=\"dataframe\">\n",
       "  <thead>\n",
       "    <tr>\n",
       "      <th></th>\n",
       "      <th>RequestType</th>\n",
       "      <th colspan=\"2\" halign=\"left\">closed_createdD</th>\n",
       "    </tr>\n",
       "    <tr>\n",
       "      <th></th>\n",
       "      <th></th>\n",
       "      <th>mean</th>\n",
       "      <th>std</th>\n",
       "    </tr>\n",
       "  </thead>\n",
       "  <tbody>\n",
       "    <tr>\n",
       "      <th>0</th>\n",
       "      <td>Bulky Items</td>\n",
       "      <td>12.457651</td>\n",
       "      <td>37.291334</td>\n",
       "    </tr>\n",
       "    <tr>\n",
       "      <th>1</th>\n",
       "      <td>Dead Animal Removal</td>\n",
       "      <td>0.911565</td>\n",
       "      <td>2.487656</td>\n",
       "    </tr>\n",
       "    <tr>\n",
       "      <th>2</th>\n",
       "      <td>Electronic Waste</td>\n",
       "      <td>4.148285</td>\n",
       "      <td>2.780719</td>\n",
       "    </tr>\n",
       "    <tr>\n",
       "      <th>3</th>\n",
       "      <td>Feedback</td>\n",
       "      <td>6.696198</td>\n",
       "      <td>10.262497</td>\n",
       "    </tr>\n",
       "    <tr>\n",
       "      <th>4</th>\n",
       "      <td>Graffiti Removal</td>\n",
       "      <td>13.427307</td>\n",
       "      <td>39.376542</td>\n",
       "    </tr>\n",
       "    <tr>\n",
       "      <th>5</th>\n",
       "      <td>Homeless Encampment</td>\n",
       "      <td>75.316659</td>\n",
       "      <td>91.725289</td>\n",
       "    </tr>\n",
       "    <tr>\n",
       "      <th>6</th>\n",
       "      <td>Illegal Dumping Pickup</td>\n",
       "      <td>26.731988</td>\n",
       "      <td>60.837321</td>\n",
       "    </tr>\n",
       "    <tr>\n",
       "      <th>7</th>\n",
       "      <td>Metal/Household Appliances</td>\n",
       "      <td>5.494361</td>\n",
       "      <td>16.786445</td>\n",
       "    </tr>\n",
       "    <tr>\n",
       "      <th>8</th>\n",
       "      <td>Multiple Streetlight Issue</td>\n",
       "      <td>72.290215</td>\n",
       "      <td>69.940955</td>\n",
       "    </tr>\n",
       "    <tr>\n",
       "      <th>9</th>\n",
       "      <td>Other</td>\n",
       "      <td>1.959386</td>\n",
       "      <td>1.739633</td>\n",
       "    </tr>\n",
       "    <tr>\n",
       "      <th>10</th>\n",
       "      <td>Single Streetlight Issue</td>\n",
       "      <td>63.202632</td>\n",
       "      <td>68.818841</td>\n",
       "    </tr>\n",
       "  </tbody>\n",
       "</table>\n",
       "</div>"
      ],
      "text/plain": [
       "                   RequestType closed_createdD           \n",
       "                                          mean        std\n",
       "0                  Bulky Items       12.457651  37.291334\n",
       "1          Dead Animal Removal        0.911565   2.487656\n",
       "2             Electronic Waste        4.148285   2.780719\n",
       "3                     Feedback        6.696198  10.262497\n",
       "4             Graffiti Removal       13.427307  39.376542\n",
       "5          Homeless Encampment       75.316659  91.725289\n",
       "6       Illegal Dumping Pickup       26.731988  60.837321\n",
       "7   Metal/Household Appliances        5.494361  16.786445\n",
       "8   Multiple Streetlight Issue       72.290215  69.940955\n",
       "9                        Other        1.959386   1.739633\n",
       "10    Single Streetlight Issue       63.202632  68.818841"
      ]
     },
     "execution_count": 8,
     "metadata": {},
     "output_type": "execute_result"
    }
   ],
   "source": [
    "# Comparing the averages of request types with the new column closed_createdD.\n",
    "dfbDavg = dfbD.groupby(['RequestType']).agg(['mean', 'std']).reset_index().sort_values(by = ['RequestType'])\n",
    "dfbDavg"
   ]
  },
  {
   "cell_type": "code",
   "execution_count": 9,
   "metadata": {},
   "outputs": [
    {
     "data": {
      "text/html": [
       "<div>\n",
       "<style scoped>\n",
       "    .dataframe tbody tr th:only-of-type {\n",
       "        vertical-align: middle;\n",
       "    }\n",
       "\n",
       "    .dataframe tbody tr th {\n",
       "        vertical-align: top;\n",
       "    }\n",
       "\n",
       "    .dataframe thead tr th {\n",
       "        text-align: left;\n",
       "    }\n",
       "</style>\n",
       "<table border=\"1\" class=\"dataframe\">\n",
       "  <thead>\n",
       "    <tr>\n",
       "      <th></th>\n",
       "      <th>RequestType</th>\n",
       "      <th colspan=\"2\" halign=\"left\">closed_createdD</th>\n",
       "      <th>colorvals</th>\n",
       "    </tr>\n",
       "    <tr>\n",
       "      <th></th>\n",
       "      <th></th>\n",
       "      <th>mean</th>\n",
       "      <th>std</th>\n",
       "      <th></th>\n",
       "    </tr>\n",
       "  </thead>\n",
       "  <tbody>\n",
       "    <tr>\n",
       "      <th>0</th>\n",
       "      <td>Bulky Items</td>\n",
       "      <td>12.457651</td>\n",
       "      <td>37.291334</td>\n",
       "      <td>(0.00392156862745098, 0.45098039215686275, 0.6...</td>\n",
       "    </tr>\n",
       "    <tr>\n",
       "      <th>1</th>\n",
       "      <td>Dead Animal Removal</td>\n",
       "      <td>0.911565</td>\n",
       "      <td>2.487656</td>\n",
       "      <td>(0.8705882352941177, 0.5607843137254902, 0.019...</td>\n",
       "    </tr>\n",
       "    <tr>\n",
       "      <th>2</th>\n",
       "      <td>Electronic Waste</td>\n",
       "      <td>4.148285</td>\n",
       "      <td>2.780719</td>\n",
       "      <td>(0.00784313725490196, 0.6196078431372549, 0.45...</td>\n",
       "    </tr>\n",
       "    <tr>\n",
       "      <th>3</th>\n",
       "      <td>Feedback</td>\n",
       "      <td>6.696198</td>\n",
       "      <td>10.262497</td>\n",
       "      <td>(0.8352941176470589, 0.3686274509803922, 0.0)</td>\n",
       "    </tr>\n",
       "    <tr>\n",
       "      <th>4</th>\n",
       "      <td>Graffiti Removal</td>\n",
       "      <td>13.427307</td>\n",
       "      <td>39.376542</td>\n",
       "      <td>(0.8, 0.47058823529411764, 0.7372549019607844)</td>\n",
       "    </tr>\n",
       "    <tr>\n",
       "      <th>5</th>\n",
       "      <td>Homeless Encampment</td>\n",
       "      <td>75.316659</td>\n",
       "      <td>91.725289</td>\n",
       "      <td>(0.792156862745098, 0.5686274509803921, 0.3803...</td>\n",
       "    </tr>\n",
       "    <tr>\n",
       "      <th>6</th>\n",
       "      <td>Illegal Dumping Pickup</td>\n",
       "      <td>26.731988</td>\n",
       "      <td>60.837321</td>\n",
       "      <td>(0.984313725490196, 0.6862745098039216, 0.8941...</td>\n",
       "    </tr>\n",
       "    <tr>\n",
       "      <th>7</th>\n",
       "      <td>Metal/Household Appliances</td>\n",
       "      <td>5.494361</td>\n",
       "      <td>16.786445</td>\n",
       "      <td>(0.5803921568627451, 0.5803921568627451, 0.580...</td>\n",
       "    </tr>\n",
       "    <tr>\n",
       "      <th>8</th>\n",
       "      <td>Multiple Streetlight Issue</td>\n",
       "      <td>72.290215</td>\n",
       "      <td>69.940955</td>\n",
       "      <td>(0.9254901960784314, 0.8823529411764706, 0.2)</td>\n",
       "    </tr>\n",
       "    <tr>\n",
       "      <th>9</th>\n",
       "      <td>Other</td>\n",
       "      <td>1.959386</td>\n",
       "      <td>1.739633</td>\n",
       "      <td>(0.33725490196078434, 0.7058823529411765, 0.91...</td>\n",
       "    </tr>\n",
       "    <tr>\n",
       "      <th>10</th>\n",
       "      <td>Single Streetlight Issue</td>\n",
       "      <td>63.202632</td>\n",
       "      <td>68.818841</td>\n",
       "      <td>(0.00392156862745098, 0.45098039215686275, 0.6...</td>\n",
       "    </tr>\n",
       "  </tbody>\n",
       "</table>\n",
       "</div>"
      ],
      "text/plain": [
       "                   RequestType closed_createdD             \\\n",
       "                                          mean        std   \n",
       "0                  Bulky Items       12.457651  37.291334   \n",
       "1          Dead Animal Removal        0.911565   2.487656   \n",
       "2             Electronic Waste        4.148285   2.780719   \n",
       "3                     Feedback        6.696198  10.262497   \n",
       "4             Graffiti Removal       13.427307  39.376542   \n",
       "5          Homeless Encampment       75.316659  91.725289   \n",
       "6       Illegal Dumping Pickup       26.731988  60.837321   \n",
       "7   Metal/Household Appliances        5.494361  16.786445   \n",
       "8   Multiple Streetlight Issue       72.290215  69.940955   \n",
       "9                        Other        1.959386   1.739633   \n",
       "10    Single Streetlight Issue       63.202632  68.818841   \n",
       "\n",
       "                                            colorvals  \n",
       "                                                       \n",
       "0   (0.00392156862745098, 0.45098039215686275, 0.6...  \n",
       "1   (0.8705882352941177, 0.5607843137254902, 0.019...  \n",
       "2   (0.00784313725490196, 0.6196078431372549, 0.45...  \n",
       "3       (0.8352941176470589, 0.3686274509803922, 0.0)  \n",
       "4      (0.8, 0.47058823529411764, 0.7372549019607844)  \n",
       "5   (0.792156862745098, 0.5686274509803921, 0.3803...  \n",
       "6   (0.984313725490196, 0.6862745098039216, 0.8941...  \n",
       "7   (0.5803921568627451, 0.5803921568627451, 0.580...  \n",
       "8       (0.9254901960784314, 0.8823529411764706, 0.2)  \n",
       "9   (0.33725490196078434, 0.7058823529411765, 0.91...  \n",
       "10  (0.00392156862745098, 0.45098039215686275, 0.6...  "
      ]
     },
     "execution_count": 9,
     "metadata": {},
     "output_type": "execute_result"
    }
   ],
   "source": [
    "# Compairing the request type, closed_createdD with the color values.\n",
    "dfbDavg['colorvals'] = sns.color_palette('colorblind', 11)\n",
    "dfbDavg"
   ]
  },
  {
   "cell_type": "markdown",
   "metadata": {},
   "source": [
    "## Data Visualizations "
   ]
  },
  {
   "cell_type": "markdown",
   "metadata": {},
   "source": [
    "In this next section of the notebook. I will talk about the visualization of my results. This will include a comparison of different request types in the Downtown Los Angeles area. The visualizations will display the completion rate of requests related to graffiti removal with other popular requests."
   ]
  },
  {
   "cell_type": "code",
   "execution_count": 10,
   "metadata": {},
   "outputs": [
    {
     "data": {
      "text/plain": [
       "Text(0.5, 1.0, 'The completion time for graffiti removal requests')"
      ]
     },
     "execution_count": 10,
     "metadata": {},
     "output_type": "execute_result"
    },
    {
     "data": {
      "image/png": "[encoded data removed]",
      "text/plain": [
       "<Figure size 1152x720 with 1 Axes>"
      ]
     },
     "metadata": {
      "needs_background": "light"
     },
     "output_type": "display_data"
    }
   ],
   "source": [
    "# Plotting a histogram based on the graffiti removal request type's closed date.\n",
    "plt.figure(figsize = (16, 10))\n",
    "dfbD[(dfbD.RequestType == 'Graffiti Removal')].closed_createdD.plot.hist(bins = 10)\n",
    "plt.xlabel('Days to completion')\n",
    "plt.ylabel('Amount of closed requests')\n",
    "plt.title(\"The completion time for graffiti removal requests\")"
   ]
  },
  {
   "cell_type": "code",
   "execution_count": 11,
   "metadata": {
    "scrolled": false
   },
   "outputs": [
    {
     "data": {
      "text/plain": [
       "[Text(0, 0.5, ''),\n",
       " Text(0.5, 0, 'Days to Completion'),\n",
       " Text(0.5, 1.0, 'The most completed requests in Downtown Los Angeles')]"
      ]
     },
     "execution_count": 11,
     "metadata": {},
     "output_type": "execute_result"
    },
    {
     "data": {
      "image/png": "[encoded data removed]",
      "text/plain": [
       "<Figure size 864x720 with 1 Axes>"
      ]
     },
     "metadata": {
      "needs_background": "light"
     },
     "output_type": "display_data"
    }
   ],
   "source": [
    "# Plotting a stacked bar chart of camparing the completion time of graffiti removal with other requests.\n",
    "plt.figure(figsize=(12,10))\n",
    "sns.set_style(\"white\")\n",
    "sns.set_context(\"talk\")\n",
    "ax = sns.barplot(y = 'RequestType', x = 'closed_createdD', data = dfbD, order = dfbDavg.RequestType, palette = list(dfbDavg.colorvals))\n",
    "sb = ax.set(xlabel = 'Days to Completion', title = 'The most completed requests in Downtown Los Angeles', ylabel = '')\n",
    "sb"
   ]
  },
  {
   "cell_type": "markdown",
   "metadata": {},
   "source": [
    "## Conclusion"
   ]
  },
  {
   "cell_type": "markdown",
   "metadata": {},
   "source": [
    "In the year 2020, the residents of Downtown Los Angeles requested the services that deals with homeless encampments, single and multiple streetlight issues. This is just a start to see where the city of Los Angeles, could focus on completing other requests."
   ]
  }
 ],
 "metadata": {
  "kernelspec": {
   "display_name": "Python 3",
   "language": "python",
   "name": "python3"
  },
  "language_info": {
   "codemirror_mode": {
    "name": "ipython",
    "version": 3
   },
   "file_extension": ".py",
   "mimetype": "text/x-python",
   "name": "python",
   "nbconvert_exporter": "python",
   "pygments_lexer": "ipython3",
   "version": "3.6.10"
  }
 },
 "nbformat": 4,
 "nbformat_minor": 4
}
